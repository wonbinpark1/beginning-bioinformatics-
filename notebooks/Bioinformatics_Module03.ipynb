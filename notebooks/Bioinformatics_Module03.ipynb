{
  "nbformat": 4,
  "nbformat_minor": 0,
  "metadata": {
    "colab": {
      "provenance": [],
      "collapsed_sections": [
        "jYlnA2Z2FhoW",
        "qRj8vCvXG-1k",
        "s7deJQCHHwOa",
        "GtjxkNHWN5Xo",
        "3yswDberkE7N",
        "4IM-9eAGkPdi",
        "nlBbe3qBRH_J",
        "_F9KCUzCd3ID",
        "iHFNxm30lzic",
        "sOgq54Op4MZL",
        "R5_dYi9f6t1z",
        "LdtXZ0LW9ugo",
        "i4Fo-ddSKWwy",
        "iupO8iI-ZYAe",
        "lY924yM0jckW",
        "NvqGEl4JjpiO",
        "DHzE7CI4lWGw",
        "WD5wnvQkmh6E",
        "kApNvgOLn8lp",
        "kq9QbEttnA4h"
      ],
      "include_colab_link": true
    },
    "kernelspec": {
      "name": "python3",
      "display_name": "Python 3"
    },
    "language_info": {
      "name": "python"
    }
  },
  "cells": [
    {
      "cell_type": "markdown",
      "metadata": {
        "id": "view-in-github",
        "colab_type": "text"
      },
      "source": [
        "<a href=\"https://colab.research.google.com/github/wonbinpark1/beginning-bioinformatics-/blob/main/notebooks/Bioinformatics_Module03.ipynb\" target=\"_parent\"><img src=\"https://colab.research.google.com/assets/colab-badge.svg\" alt=\"Open In Colab\"/></a>"
      ]
    },
    {
      "cell_type": "markdown",
      "source": [
        "# **<font color=blue>P1.** </font>Rename this notebook **Bioinformatics_Module03.ipynb </font><br>**"
      ],
      "metadata": {
        "id": "l3h89jAYBUzz"
      }
    },
    {
      "cell_type": "markdown",
      "source": [
        "# **<font color=blue>P2. </font>**```print()```writes to standard output (i.e. prints output to the screen)"
      ],
      "metadata": {
        "id": "jYlnA2Z2FhoW"
      }
    },
    {
      "cell_type": "markdown",
      "source": [
        "####**TASK P2.1:** Print <font color = magenta>hello world</font>"
      ],
      "metadata": {
        "id": "r118fqQodA9x"
      }
    },
    {
      "cell_type": "code",
      "source": [
        "print(\"hello world\")"
      ],
      "metadata": {
        "id": "kvxK8D5uFx_x"
      },
      "execution_count": null,
      "outputs": []
    },
    {
      "cell_type": "markdown",
      "source": [
        "# **<font color=blue>P3. </font>**```=``` is the ASSIGNMENT operator (assigns values to variables)\n",
        "####**TASK P3.1:** Ask Gemini, \"*Give me 3 examples to help practice understanding the assignment operator.*\""
      ],
      "metadata": {
        "id": "qRj8vCvXG-1k"
      }
    },
    {
      "cell_type": "code",
      "source": [
        "x=5\n",
        "x"
      ],
      "metadata": {
        "id": "VB8HPNe7JpuJ"
      },
      "execution_count": null,
      "outputs": []
    },
    {
      "cell_type": "markdown",
      "source": [
        "# **<font color=blue>P4. </font>** Data types: use ```type()``` to find a variable's \"type\"\n",
        "####**TASK P4.1:** Ask Gemini, \"*Give me examples of each data type to see how they look as outputs.*\""
      ],
      "metadata": {
        "id": "s7deJQCHHwOa"
      }
    },
    {
      "cell_type": "code",
      "source": [
        "type(x)"
      ],
      "metadata": {
        "colab": {
          "base_uri": "https://localhost:8080/"
        },
        "id": "ktR75uWIJ0uc",
        "outputId": "655ad46e-ce5a-45cb-b86c-0f7afbb4580e"
      },
      "execution_count": null,
      "outputs": [
        {
          "output_type": "execute_result",
          "data": {
            "text/plain": [
              "int"
            ]
          },
          "metadata": {},
          "execution_count": 50
        }
      ]
    },
    {
      "cell_type": "markdown",
      "source": [
        "# **<font color=blue>P5. </font>** Arithmetic and comparison operators\n",
        "####**TASK P5.1:**   Complete Rosalind #1"
      ],
      "metadata": {
        "id": "GtjxkNHWN5Xo"
      }
    },
    {
      "cell_type": "code",
      "source": [
        "y=2+3\n",
        "print(y)\n",
        "x==y"
      ],
      "metadata": {
        "id": "45s9c4vyQm2U"
      },
      "execution_count": null,
      "outputs": []
    },
    {
      "cell_type": "markdown",
      "source": [
        "# **<font color=blue>P6. </font>** ```input()``` gets input from the user"
      ],
      "metadata": {
        "id": "3yswDberkE7N"
      }
    },
    {
      "cell_type": "markdown",
      "source": [
        "TASK P6.1"
      ],
      "metadata": {
        "id": "z97rSY9gqdad"
      }
    },
    {
      "cell_type": "code",
      "metadata": {
        "colab": {
          "base_uri": "https://localhost:8080/"
        },
        "id": "d91046dd",
        "outputId": "19603f49-902d-4132-ed03-32ca502e3991"
      },
      "source": [
        "name = input(\"Enter your name: \")\n",
        "print(\"Hello, \" + name)"
      ],
      "execution_count": null,
      "outputs": [
        {
          "output_type": "stream",
          "name": "stdout",
          "text": [
            "Enter your name: Jeff\n",
            "Hello, Jeff\n"
          ]
        }
      ]
    },
    {
      "cell_type": "markdown",
      "source": [
        "####**TASK P6.1:** Solve Rosalind #1 again, but get user input for the values of a and b rather than modifying the code."
      ],
      "metadata": {
        "id": "e3LaAQeLRmE6"
      }
    },
    {
      "cell_type": "code",
      "source": [
        "a= int(input(\"enter a value for a:\"))\n",
        "b= int(input(\"enter a value for b:\"))\n",
        "c=a**2+b**2\n",
        "print (\"The sq of the hypotenuse is\",c)"
      ],
      "metadata": {
        "id": "wZ0XL0L6Rq2H"
      },
      "execution_count": null,
      "outputs": []
    },
    {
      "cell_type": "markdown",
      "source": [
        "# **<font color=blue>P7. </font>** ```list``` type variables (create, replace, append)"
      ],
      "metadata": {
        "id": "4IM-9eAGkPdi"
      }
    },
    {
      "cell_type": "markdown",
      "source": [
        "####**TASK P7.1**"
      ],
      "metadata": {
        "id": "DhNGdYK6NEpe"
      }
    },
    {
      "cell_type": "code",
      "source": [
        "# Create a list with 3 elements and then print them\n",
        "\n",
        "my_list = [\"Hello\", \"World\", \"Charles Darwin\"]\n",
        "type(my_list[0])"
      ],
      "metadata": {
        "id": "N3VRRQIEkXuP",
        "colab": {
          "base_uri": "https://localhost:8080/"
        },
        "outputId": "f57fdc93-5ef0-44d8-8d49-98b47e0227c2"
      },
      "execution_count": null,
      "outputs": [
        {
          "output_type": "execute_result",
          "data": {
            "text/plain": [
              "str"
            ]
          },
          "metadata": {},
          "execution_count": 8
        }
      ]
    },
    {
      "cell_type": "markdown",
      "source": [
        "####**TASK P7.2**"
      ],
      "metadata": {
        "id": "Yn3bAoi8NKy5"
      }
    },
    {
      "cell_type": "code",
      "source": [
        "# Substitute the item at index 2 in the list\n",
        "my_list[2] = \"Alfred R. Wallace\"\n",
        "print (my_list)\n",
        "\n",
        "my_list[2] = \"Alfred Hitchcock\"\n",
        "my_list\n"
      ],
      "metadata": {
        "id": "WNnsUuduOKbI",
        "colab": {
          "base_uri": "https://localhost:8080/"
        },
        "outputId": "f20723a9-6e7e-4d75-be49-777dab2426cb"
      },
      "execution_count": null,
      "outputs": [
        {
          "output_type": "stream",
          "name": "stdout",
          "text": [
            "['Hello', 'World', 'Alfred R. Wallace']\n"
          ]
        },
        {
          "output_type": "execute_result",
          "data": {
            "text/plain": [
              "['Hello', 'World', 'Alfred Hitchcock']"
            ]
          },
          "metadata": {},
          "execution_count": 9
        }
      ]
    },
    {
      "cell_type": "markdown",
      "source": [
        "####**TASK P7.3**"
      ],
      "metadata": {
        "id": "SxiMMNLyPwGV"
      }
    },
    {
      "cell_type": "code",
      "source": [
        "# Append an item to the end of the list\n",
        "my_list.append(\"Charles Darwin\")\n",
        "print (my_list)"
      ],
      "metadata": {
        "id": "3VrLc6CGQTi-"
      },
      "execution_count": null,
      "outputs": []
    },
    {
      "cell_type": "markdown",
      "source": [
        "####**TASK P7.4**. Ask Gemini how to <font color=crimson>```insert```</font> a new item at index 1 in the list"
      ],
      "metadata": {
        "id": "XQKmwgbfQond"
      }
    },
    {
      "cell_type": "code",
      "source": [
        "# On line #2 insert an item at index 1 of my_list\n",
        "\n",
        "print (my_list)"
      ],
      "metadata": {
        "id": "u0maP5CZZN13"
      },
      "execution_count": null,
      "outputs": []
    },
    {
      "cell_type": "markdown",
      "source": [
        "# **<font color=blue>P8. </font>** Slicing lists and strings"
      ],
      "metadata": {
        "id": "nlBbe3qBRH_J"
      }
    },
    {
      "cell_type": "markdown",
      "source": [
        "####**TASK P8.1** Slice and print only the middle two elements from the list created in P7 (i.e. only <font color=magenta>World</font> and <font color=magenta>Alfred R. Wallace</font>).  "
      ],
      "metadata": {
        "id": "M0YW2MP0WtuI"
      }
    },
    {
      "cell_type": "code",
      "source": [
        "print (my_list[2:4])"
      ],
      "metadata": {
        "colab": {
          "base_uri": "https://localhost:8080/"
        },
        "id": "Tp1djNtiaxSb",
        "outputId": "ebc542de-e775-49f6-8907-f19889787025"
      },
      "execution_count": null,
      "outputs": [
        {
          "output_type": "stream",
          "name": "stdout",
          "text": [
            "['Alfred Hitchcock']\n"
          ]
        }
      ]
    },
    {
      "cell_type": "markdown",
      "source": [
        "####**TASK P8.2**: Print <font color=magenta>Wallace World</font> from **my_string** by slicing\n"
      ],
      "metadata": {
        "id": "_F9KCUzCd3ID"
      }
    },
    {
      "cell_type": "code",
      "source": [
        "my_string = \"HelloWorldCharlesDarwinAlfred R. Walace\"\n",
        "print (my_string[0:5],my_string[5:10])\n",
        "\n",
        "# in the print command below input the correct index values to complete Task P8.2\n",
        "print (my_string[33:39],my_string[0:5])"
      ],
      "metadata": {
        "colab": {
          "base_uri": "https://localhost:8080/"
        },
        "id": "AafKngtba8En",
        "outputId": "9d439817-6b7a-4f0c-a398-669fa9201158"
      },
      "execution_count": null,
      "outputs": [
        {
          "output_type": "stream",
          "name": "stdout",
          "text": [
            "Hello World\n",
            "Walace Hello\n"
          ]
        }
      ]
    },
    {
      "cell_type": "code",
      "source": [
        "my_string = \"HelloWorldCharlesDarwinAlfred R. Walace\"\n",
        "my_string[0:5]\n"
      ],
      "metadata": {
        "colab": {
          "base_uri": "https://localhost:8080/",
          "height": 35
        },
        "id": "zMQ1xVqW3JAy",
        "outputId": "9b90d7de-f59d-47e3-cbb6-02d13bac6538"
      },
      "execution_count": null,
      "outputs": [
        {
          "output_type": "execute_result",
          "data": {
            "text/plain": [
              "'Hello'"
            ],
            "application/vnd.google.colaboratory.intrinsic+json": {
              "type": "string"
            }
          },
          "metadata": {},
          "execution_count": 48
        }
      ]
    },
    {
      "cell_type": "markdown",
      "source": [
        "####**TASK P8.3**  **<font color = orange> Complete Rosalind Problem #2 Strings and Lists</font>**"
      ],
      "metadata": {
        "id": "2TTQVE-Xf8jR"
      }
    },
    {
      "cell_type": "code",
      "source": [
        "# Rosalind 2. Strings and lists\n",
        "s = \"ybStOqiJ23aFv8AqaeBy2nFWNy3yokCARSjjSYkdaGNpE7hpHHzZnKCnGIkXKGcCLoX9aZBYymMojtA9BrachypelmafGEYOjqaHMprbKCLY5zstyliferqlstxdbmrZOaxrQ2oXty7RwrDs4OYNqb91cOc2zvW3OrzVFPCS2lKXNm8veqbIS.\"\n",
        "a = 80\n",
        "b = 90\n",
        "c = 110\n",
        "d = 117\n",
        "s[a:b+1], s[c:d+1]"
      ],
      "metadata": {
        "id": "LI88f5RZh4GL",
        "colab": {
          "base_uri": "https://localhost:8080/"
        },
        "outputId": "30bbd65d-3ff6-41e3-ef11-26b0f2ea8731"
      },
      "execution_count": null,
      "outputs": [
        {
          "output_type": "execute_result",
          "data": {
            "text/plain": [
              "('Brachypelma', 'stylifer')"
            ]
          },
          "metadata": {},
          "execution_count": 49
        }
      ]
    },
    {
      "cell_type": "markdown",
      "source": [
        "####**<font color=crimson>TASK 8.4 Commit to GitHub**</font>*italicized text*"
      ],
      "metadata": {
        "id": "Tw6Pwh6TjwJ9"
      }
    },
    {
      "cell_type": "markdown",
      "source": [
        "# **<font color=blue>P9. </font>** ```if``` and ```else``` - conditional output"
      ],
      "metadata": {
        "id": "iHFNxm30lzic"
      }
    },
    {
      "cell_type": "markdown",
      "source": [
        "####**TASK P9.1** Create some code that subtracts two numbers if they are different or adds them if they are the same."
      ],
      "metadata": {
        "id": "WCXnGdftztbN"
      }
    },
    {
      "cell_type": "code",
      "source": [
        "a=5\n",
        "b=5\n",
        "\n",
        "if a != b:\n",
        "  print(a - b)\n",
        "\n",
        "else:\n",
        "  print(a + b)"
      ],
      "metadata": {
        "id": "KabZsL5Fy8jJ",
        "colab": {
          "base_uri": "https://localhost:8080/"
        },
        "outputId": "b999d593-3407-4424-d85b-14d9b3400816"
      },
      "execution_count": null,
      "outputs": [
        {
          "output_type": "stream",
          "name": "stdout",
          "text": [
            "10\n"
          ]
        }
      ]
    },
    {
      "cell_type": "markdown",
      "source": [
        "# **<font color=blue>P10.</font>** ```while``` loops"
      ],
      "metadata": {
        "id": "sOgq54Op4MZL"
      }
    },
    {
      "cell_type": "markdown",
      "source": [
        "####**TASK P10.1** Create a while loop that runs 3 times\n"
      ],
      "metadata": {
        "id": "JMqGqhTn4l9s"
      }
    },
    {
      "cell_type": "code",
      "source": [
        "#initiate a counter\n",
        "a = 1\n",
        "\n",
        "\n",
        "#print \"Counting!\" while a<=3\n",
        "while a <= 3:\n",
        "\n",
        "    print (\"Counting!\" * a)\n",
        "    #a += 1"
      ],
      "metadata": {
        "id": "07YbiCGO4O1w"
      },
      "execution_count": null,
      "outputs": []
    },
    {
      "cell_type": "code",
      "source": [
        "a = 1\n",
        "m_list = []\n",
        "while a <= 100:\n",
        "  m_list.append(a)\n",
        "  a += 1\n",
        "\n",
        "\n",
        "print(m_list)\n"
      ],
      "metadata": {
        "colab": {
          "base_uri": "https://localhost:8080/"
        },
        "id": "RdVGYt435Izr",
        "outputId": "843c8508-0d53-47e0-abb1-b5d6b74741c4"
      },
      "execution_count": null,
      "outputs": [
        {
          "output_type": "stream",
          "name": "stdout",
          "text": [
            "[1, 2, 3, 4, 5, 6, 7, 8, 9, 10, 11, 12, 13, 14, 15, 16, 17, 18, 19, 20, 21, 22, 23, 24, 25, 26, 27, 28, 29, 30, 31, 32, 33, 34, 35, 36, 37, 38, 39, 40, 41, 42, 43, 44, 45, 46, 47, 48, 49, 50, 51, 52, 53, 54, 55, 56, 57, 58, 59, 60, 61, 62, 63, 64, 65, 66, 67, 68, 69, 70, 71, 72, 73, 74, 75, 76, 77, 78, 79, 80, 81, 82, 83, 84, 85, 86, 87, 88, 89, 90, 91, 92, 93, 94, 95, 96, 97, 98, 99, 100]\n"
          ]
        }
      ]
    },
    {
      "cell_type": "markdown",
      "source": [
        "# **<font color=blue>P11.</font>** ```for``` loops – looping over lists"
      ],
      "metadata": {
        "id": "R5_dYi9f6t1z"
      }
    },
    {
      "cell_type": "markdown",
      "source": [
        "####**TASK P11.1** Create a for loop to print each item in a list\n"
      ],
      "metadata": {
        "id": "x9F7v_V073wO"
      }
    },
    {
      "cell_type": "code",
      "source": [
        "names = [\"Alice\",\"Bob\",\"Charley\"]\n",
        "\n",
        "for i in names:\n",
        "  print(\"Hey! \" + i)\n",
        "\n",
        "for name in names:\n",
        "    print (\"Hello\", name)"
      ],
      "metadata": {
        "id": "-aqaQ5hz70yo",
        "colab": {
          "base_uri": "https://localhost:8080/"
        },
        "outputId": "ae5dcc1f-f248-4c02-c99c-fccee3f7f6d2"
      },
      "execution_count": null,
      "outputs": [
        {
          "output_type": "stream",
          "name": "stdout",
          "text": [
            "Hey! Alice\n",
            "Hey! Bob\n",
            "Hey! Charley\n",
            "Hello Alice\n",
            "Hello Bob\n",
            "Hello Charley\n"
          ]
        }
      ]
    },
    {
      "cell_type": "markdown",
      "source": [
        "# **<font color=blue>P12.</font>** ```for``` loops over a ```range()```of numbers"
      ],
      "metadata": {
        "id": "LdtXZ0LW9ugo"
      }
    },
    {
      "cell_type": "markdown",
      "source": [
        "####**TASK 12.1** Using for and range(), create code that prints the numbers 0-9"
      ],
      "metadata": {
        "id": "jG6jvXEBDi4H"
      }
    },
    {
      "cell_type": "code",
      "source": [
        "# Create a variable to define the  number of iterations\n",
        "iterations = 10\n",
        "\n",
        "#Print the current item's value each time through the loop\n",
        "for number in range(iterations):\n",
        "    print (number)"
      ],
      "metadata": {
        "colab": {
          "base_uri": "https://localhost:8080/"
        },
        "id": "RFBXqQNu_E6X",
        "outputId": "f1a5b660-1029-49d8-9365-36d176f0409e"
      },
      "execution_count": null,
      "outputs": [
        {
          "output_type": "stream",
          "name": "stdout",
          "text": [
            "0\n",
            "2\n",
            "4\n",
            "6\n",
            "8\n",
            "0\n",
            "1\n",
            "2\n",
            "3\n",
            "4\n",
            "5\n",
            "6\n",
            "7\n",
            "8\n",
            "9\n"
          ]
        }
      ]
    },
    {
      "cell_type": "markdown",
      "source": [
        "####**TASK 12.2** Modify the code so that it only prints every 3rd number from 9 through 27 (i.e. including 27)"
      ],
      "metadata": {
        "id": "NRd5srR_G-PQ"
      }
    },
    {
      "cell_type": "code",
      "source": [
        "for x in range(9, 28, 3):\n",
        "  print(x)"
      ],
      "metadata": {
        "id": "irYTFPO-IRHo",
        "colab": {
          "base_uri": "https://localhost:8080/"
        },
        "outputId": "57dc600c-e705-42fe-c6ea-e495e2a360ae"
      },
      "execution_count": null,
      "outputs": [
        {
          "output_type": "stream",
          "name": "stdout",
          "text": [
            "9\n",
            "12\n",
            "15\n",
            "18\n",
            "21\n",
            "24\n",
            "27\n"
          ]
        }
      ]
    },
    {
      "cell_type": "markdown",
      "source": [
        "####**TASK 12.3** <font color = orange> **Complete Rosalind Problem #3 Conditions and Loops** </font>"
      ],
      "metadata": {
        "id": "83jDEjpMHXUa"
      }
    },
    {
      "cell_type": "code",
      "source": [
        "# Rosalind 3. Conditions and Loops\n",
        "a = 4870\n",
        "b = 8969\n",
        "odd_list = []\n",
        "while a <= b:\n",
        "  if a % 2 == 1:\n",
        "    odd_list.append(a)\n",
        "\n",
        "  a += 1\n",
        "\n",
        "sum(odd_list)"
      ],
      "metadata": {
        "id": "EI7hRtakG90R",
        "colab": {
          "base_uri": "https://localhost:8080/"
        },
        "outputId": "b9094d28-0b0a-4ed8-f07d-ccd7ec68f0a1"
      },
      "execution_count": null,
      "outputs": [
        {
          "output_type": "execute_result",
          "data": {
            "text/plain": [
              "14186000"
            ]
          },
          "metadata": {},
          "execution_count": 35
        }
      ]
    },
    {
      "cell_type": "markdown",
      "source": [
        "####**<font color=crimson>TASK 12.4 Commit to GitHub**</font>"
      ],
      "metadata": {
        "id": "3P9DKNbPI1wp"
      }
    },
    {
      "cell_type": "markdown",
      "source": [
        "# **<font color=blue>P13.</font>** File I/O – with open(\"filename\", \"mode\") as filehandle:\n"
      ],
      "metadata": {
        "id": "i4Fo-ddSKWwy"
      }
    },
    {
      "cell_type": "markdown",
      "source": [
        "####**TASK P13.1** Use the ```read()``` function to print the <font color = orange>practice dataset from Rosalind #4</font>\n"
      ],
      "metadata": {
        "id": "sgc3wiQmLXcI"
      }
    },
    {
      "cell_type": "code",
      "source": [
        "with open(\"practice.txt\",\"r\") as data:\n",
        "    print(data.read())\n",
        "\n",
        "    #print(data.readline())\n",
        "    print(data.readline())\n",
        "\n",
        "    #print(data.readlines())\n",
        "    print(data.readlines())"
      ],
      "metadata": {
        "id": "V5nzHsnULA_n",
        "colab": {
          "base_uri": "https://localhost:8080/"
        },
        "outputId": "00f99e33-37ec-44b8-a614-98db40a87a08"
      },
      "execution_count": 15,
      "outputs": [
        {
          "output_type": "stream",
          "name": "stdout",
          "text": [
            "Bravely bold Sir Robin rode forth from Camelot\n",
            "Yes, brave Sir Robin turned about\n",
            "He was not afraid to die, O brave Sir Robin\n",
            "And gallantly he chickened out\n",
            "He was not at all afraid to be killed in nasty ways\n",
            "Bravely talking to his feet\n",
            "Brave, brave, brave, brave Sir Robin\n",
            "He beat a very brave retreat\n",
            "\n",
            "[]\n"
          ]
        }
      ]
    },
    {
      "cell_type": "markdown",
      "source": [
        "####**TASK P13.2** Explore file object functions to read and print practice.txt"
      ],
      "metadata": {
        "id": "GLO6tBYNVzYZ"
      }
    },
    {
      "cell_type": "code",
      "source": [
        "with open(\"practice.txt\", \"r\") as data:\n",
        "  print(data.read())\n",
        "  print(data.readline())\n",
        "  print(data.readlines())"
      ],
      "metadata": {
        "colab": {
          "base_uri": "https://localhost:8080/"
        },
        "id": "z7558cEcVspV",
        "outputId": "6a28516f-e40a-4ec5-d3e7-26650eb56655"
      },
      "execution_count": 19,
      "outputs": [
        {
          "output_type": "stream",
          "name": "stdout",
          "text": [
            "Bravely bold Sir Robin rode forth from Camelot\n",
            "Yes, brave Sir Robin turned about\n",
            "He was not afraid to die, O brave Sir Robin\n",
            "And gallantly he chickened out\n",
            "He was not at all afraid to be killed in nasty ways\n",
            "Bravely talking to his feet\n",
            "Brave, brave, brave, brave Sir Robin\n",
            "He beat a very brave retreat\n",
            "\n",
            "[]\n"
          ]
        }
      ]
    },
    {
      "cell_type": "markdown",
      "source": [
        "#<font color=blue>**P14.**</font> Store the content, close the file, and join ( ) the list"
      ],
      "metadata": {
        "id": "iupO8iI-ZYAe"
      }
    },
    {
      "cell_type": "code",
      "source": [
        "with open(\"practice.txt\",\"r\") as data:\n",
        "\n",
        "  list_of_lines=data.readlines()\n",
        "\n",
        "print (list_of_lines)"
      ],
      "metadata": {
        "id": "8U5w2qOudDyp",
        "colab": {
          "base_uri": "https://localhost:8080/"
        },
        "outputId": "90a537bf-a857-4749-cb37-53943b2252e3"
      },
      "execution_count": 22,
      "outputs": [
        {
          "output_type": "stream",
          "name": "stdout",
          "text": [
            "['Bravely bold Sir Robin rode forth from Camelot\\n', 'Yes, brave Sir Robin turned about\\n', 'He was not afraid to die, O brave Sir Robin\\n', 'And gallantly he chickened out\\n', 'He was not at all afraid to be killed in nasty ways\\n', 'Bravely talking to his feet\\n', 'Brave, brave, brave, brave Sir Robin\\n', 'He beat a very brave retreat']\n",
            "<_io.TextIOWrapper name='practice.txt' mode='r' encoding='utf-8'>\n"
          ]
        }
      ]
    },
    {
      "cell_type": "markdown",
      "source": [
        "####**TASK P14.1** Read practice.txt into a list of lines. Then, after the file is closed, use the join ( ) function to print the contents so it looks like the original input."
      ],
      "metadata": {
        "id": "5pPhGmQYiiKx"
      }
    },
    {
      "cell_type": "code",
      "source": [
        "print (\"_\".join(list_of_lines))"
      ],
      "metadata": {
        "id": "XLvFZ9uSeyYH",
        "colab": {
          "base_uri": "https://localhost:8080/"
        },
        "outputId": "e8a49547-b031-47e0-e295-0a018d2ed82d"
      },
      "execution_count": 30,
      "outputs": [
        {
          "output_type": "stream",
          "name": "stdout",
          "text": [
            "Bravely bold Sir Robin rode forth from Camelot\n",
            "_Yes, brave Sir Robin turned about\n",
            "_He was not afraid to die, O brave Sir Robin\n",
            "_And gallantly he chickened out\n",
            "_He was not at all afraid to be killed in nasty ways\n",
            "_Bravely talking to his feet\n",
            "_Brave, brave, brave, brave Sir Robin\n",
            "_He beat a very brave retreat\n"
          ]
        }
      ]
    },
    {
      "cell_type": "markdown",
      "source": [
        "#<font color=blue>**P15.**</font> Combining for loops with file objects"
      ],
      "metadata": {
        "id": "lY924yM0jckW"
      }
    },
    {
      "cell_type": "code",
      "source": [
        "with open(\"practice.txt\", \"r\") as data:\n",
        "  for i in data:\n",
        "    print(i)"
      ],
      "metadata": {
        "colab": {
          "base_uri": "https://localhost:8080/"
        },
        "id": "uf9nRm3mYla5",
        "outputId": "404a6c7e-d33a-4306-8646-ede9e053eb04"
      },
      "execution_count": 36,
      "outputs": [
        {
          "output_type": "stream",
          "name": "stdout",
          "text": [
            "Bravely bold Sir Robin rode forth from Camelot\n",
            "\n",
            "Yes, brave Sir Robin turned about\n",
            "\n",
            "He was not afraid to die, O brave Sir Robin\n",
            "\n",
            "And gallantly he chickened out\n",
            "\n",
            "He was not at all afraid to be killed in nasty ways\n",
            "\n",
            "Bravely talking to his feet\n",
            "\n",
            "Brave, brave, brave, brave Sir Robin\n",
            "\n",
            "He beat a very brave retreat\n"
          ]
        }
      ]
    },
    {
      "cell_type": "markdown",
      "source": [
        "####**TASK P15.1** Use a for loop to print each line in practice.txt"
      ],
      "metadata": {
        "id": "NvqGEl4JjpiO"
      }
    },
    {
      "cell_type": "code",
      "source": [
        "with open(\"practice.txt\",\"r\") as data:\n",
        "\n",
        "  for line in data:\n",
        "    print (line.rstrip())"
      ],
      "metadata": {
        "id": "snY-10pUkMby",
        "colab": {
          "base_uri": "https://localhost:8080/"
        },
        "outputId": "8f20a75a-c18e-4c35-f36d-44dfe9406ec2"
      },
      "execution_count": 39,
      "outputs": [
        {
          "output_type": "stream",
          "name": "stdout",
          "text": [
            "Bravely bold Sir Robin rode forth from Camelot\n",
            "Yes, brave Sir Robin turned about\n",
            "He was not afraid to die, O brave Sir Robin\n",
            "And gallantly he chickened out\n",
            "He was not at all afraid to be killed in nasty ways\n",
            "Bravely talking to his feet\n",
            "Brave, brave, brave, brave Sir Robin\n",
            "He beat a very brave retreat\n"
          ]
        }
      ]
    },
    {
      "cell_type": "markdown",
      "source": [
        "####**TASK P15.2** <font color=orange>**Complete Rosalind Problem #4 Working with Files**</font>\n"
      ],
      "metadata": {
        "id": "DHzE7CI4lWGw"
      }
    },
    {
      "cell_type": "code",
      "source": [
        "with open(\"rosalind_ini5.txt\", \"r\") as data:\n",
        "  text_list = data.readlines()\n",
        "\n",
        "text_list[1]\n",
        "\n",
        "for i in range(int(len(text_list))):\n",
        "  if i % 2 == 1:\n",
        "    print(text_list[i].rstrip())"
      ],
      "metadata": {
        "id": "8QR9dRFtltBN",
        "colab": {
          "base_uri": "https://localhost:8080/"
        },
        "outputId": "129d42d6-e096-4c10-b705-9b8780a405e5"
      },
      "execution_count": 67,
      "outputs": [
        {
          "output_type": "stream",
          "name": "stdout",
          "text": [
            "Some things in life are bad, they can really make you mad\n",
            "Other things just make you swear and curse\n",
            "When you're chewing on life's gristle, don't grumble give a whistle\n",
            "This will help things turn out for the best\n",
            "Always look on the bright side of life\n",
            "Always look on the right side of life\n",
            "If life seems jolly rotten, there's something you've forgotten\n",
            "And that's to laugh and smile and dance and sing\n",
            "When you're feeling in the dumps, don't be silly, chumps\n",
            "Just purse your lips and whistle, that's the thing\n",
            "So, always look on the bright side of death\n",
            "Just before you draw your terminal breath\n",
            "Life's a counterfeit and when you look at it\n",
            "Life's a laugh and death's the joke, it's true\n",
            "You see, it's all a show, keep them laughing as you go\n",
            "Just remember the last laugh is on you\n",
            "Always look on the bright side of life\n",
            "And always look on the right side of life\n",
            "Always look on the bright side of life\n",
            "And always look on the right side of life\n"
          ]
        }
      ]
    },
    {
      "cell_type": "markdown",
      "source": [
        "####**<font color=crimson>TASK 15.4 Commit to GitHub**</font>"
      ],
      "metadata": {
        "id": "GJ_acW4WlwDn"
      }
    },
    {
      "cell_type": "markdown",
      "source": [
        "#<font color=blue>**P16.**</font> ```for word in line.split()``` – looping over strings and splitting by any delimiter"
      ],
      "metadata": {
        "id": "WD5wnvQkmh6E"
      }
    },
    {
      "cell_type": "markdown",
      "source": [
        "####**TASK P16.1** Print each word in the ROSALIND Problem #5 Sample Dataset on a separate line.\n"
      ],
      "metadata": {
        "id": "kApNvgOLn8lp"
      }
    },
    {
      "cell_type": "code",
      "source": [
        "with open(\"practice_5.txt\",\"r\") as data:\n",
        "\n",
        "  line=data.read()\n",
        "\n",
        "for word in line.split():\n",
        "    print (word)"
      ],
      "metadata": {
        "colab": {
          "base_uri": "https://localhost:8080/"
        },
        "id": "PBjyhwclpKoM",
        "outputId": "955d5394-aceb-458f-c240-499de722ecfb"
      },
      "execution_count": 69,
      "outputs": [
        {
          "output_type": "stream",
          "name": "stdout",
          "text": [
            "We tried list and we tried dicts also we tried Zen\n",
            "We\n",
            "tried\n",
            "list\n",
            "and\n",
            "we\n",
            "tried\n",
            "dicts\n",
            "also\n",
            "we\n",
            "tried\n",
            "Zen\n"
          ]
        }
      ]
    },
    {
      "cell_type": "markdown",
      "source": [
        "#<font color=blue>**P17.**</font> Python Dictionaries { }"
      ],
      "metadata": {
        "id": "kq9QbEttnA4h"
      }
    },
    {
      "cell_type": "markdown",
      "source": [
        "####**TASK 17.1** Create and print your first dictionary"
      ],
      "metadata": {
        "id": "lVudFQkZqJgh"
      }
    },
    {
      "cell_type": "code",
      "source": [
        "sequences = {\n",
        "    \"H.neandertalensis\":\"ACGTCGCTCTGCTA\",\n",
        "    \"H.sapiens\":\"ACGTCACTCTGCTA\"\n",
        "    }\n",
        "\n",
        "print (sequences)"
      ],
      "metadata": {
        "colab": {
          "base_uri": "https://localhost:8080/"
        },
        "id": "IzKFWDlgq6zo",
        "outputId": "c8bdc3bf-f772-4e1d-8cf3-333bf7224196"
      },
      "execution_count": 74,
      "outputs": [
        {
          "output_type": "stream",
          "name": "stdout",
          "text": [
            "{'H.neandertalensis': 'ACGTCGCTCTGCTA', 'H.sapiens': 'ACGTCACTCTGCTA'}\n"
          ]
        }
      ]
    },
    {
      "cell_type": "markdown",
      "source": [
        "#<font color=blue>**P18.**</font> Manipulating and printing dictionaries"
      ],
      "metadata": {
        "id": "OvqoT6UwnK0g"
      }
    },
    {
      "cell_type": "markdown",
      "source": [
        "####**TASK 18.1** Modify line 8 to create a fasta file of the hominid sequences"
      ],
      "metadata": {
        "id": "5Be2tcQRrjso"
      }
    },
    {
      "cell_type": "code",
      "source": [
        "\n",
        "sequences[\"P.troglodytes\"]=\"ACGTCACTCTCCTA\"\n",
        "\n",
        "sequences.update({\"G.gorilla\":\"ACGTCCTCCTA\", \"H.erectus\":\"ACGTCACTCTGCTA\"})\n",
        "\n",
        "for key,value in sequences.items():\n",
        "     print (\"> \" + key,\"\\n\" + value)"
      ],
      "metadata": {
        "colab": {
          "base_uri": "https://localhost:8080/"
        },
        "id": "b-2XDof4rtP8",
        "outputId": "680a9bd6-ad1f-413f-b999-b91e2dc3662d"
      },
      "execution_count": 83,
      "outputs": [
        {
          "output_type": "stream",
          "name": "stdout",
          "text": [
            "> H.neandertalensis \n",
            "ACGTCGCTCTGCTA\n",
            "> H.sapiens \n",
            "ACGTCACTCTGCTA\n",
            "> P.troglodytes \n",
            "ACGTCACTCTCCTA\n",
            "> G.gorilla \n",
            "ACGTCCTCCTA\n",
            "> H.erectus \n",
            "ACGTCACTCTGCTA\n"
          ]
        }
      ]
    },
    {
      "cell_type": "markdown",
      "source": [
        "####**TASK P18.2** <font color= orange>**Complete Rosalind Problem #5  Dictionaries**</font>"
      ],
      "metadata": {
        "id": "Y98OZYUNvmWD"
      }
    },
    {
      "cell_type": "code",
      "source": [
        "with open('rosalind_ini6.txt', 'r') as data:\n",
        "  ran_str = data.read()\n",
        "\n",
        "ran_dict = {}\n",
        "\n",
        "for letters in ran_str.split():\n",
        "  if letters in ran_dict:\n",
        "    ran_dict[letters] += 1\n",
        "\n",
        "  else:\n",
        "      ran_dict[letters] = 1\n",
        "\n",
        "for key,value in ran_dict.items():\n",
        "  print(key, value)\n",
        "\n",
        "\n",
        "\n"
      ],
      "metadata": {
        "id": "lD3KoTY9wWa7",
        "colab": {
          "base_uri": "https://localhost:8080/"
        },
        "outputId": "a3625d4a-3cb2-4851-e32c-363df4c187c5"
      },
      "execution_count": 98,
      "outputs": [
        {
          "output_type": "stream",
          "name": "stdout",
          "text": [
            "When 1\n",
            "I 2\n",
            "find 1\n",
            "myself 1\n",
            "in 4\n",
            "times 1\n",
            "of 11\n",
            "trouble 1\n",
            "Mother 2\n",
            "Mary 2\n",
            "comes 2\n",
            "to 3\n",
            "me 4\n",
            "Speaking 3\n",
            "words 7\n",
            "wisdom 7\n",
            "let 30\n",
            "it 36\n",
            "be 41\n",
            "And 3\n",
            "my 1\n",
            "hour 1\n",
            "darkness 1\n",
            "she 1\n",
            "is 4\n",
            "standing 1\n",
            "right 1\n",
            "front 1\n",
            "Let 6\n",
            "Whisper 4\n",
            "when 2\n",
            "the 4\n",
            "broken 1\n",
            "hearted 1\n",
            "people 1\n",
            "living 1\n",
            "world 1\n",
            "agree 1\n",
            "There 4\n",
            "will 5\n",
            "an 4\n",
            "answer 4\n",
            "For 1\n",
            "though 1\n",
            "they 2\n",
            "may 1\n",
            "parted 1\n",
            "there 2\n",
            "still 2\n",
            "a 2\n",
            "chance 1\n",
            "that 2\n",
            "see 1\n",
            "night 1\n",
            "cloudy 1\n",
            "light 1\n",
            "shines 1\n",
            "on 1\n",
            "Shine 1\n",
            "until 1\n",
            "tomorrow 1\n",
            "wake 1\n",
            "up 1\n",
            "sound 1\n",
            "music 1\n",
            "yeah 2\n"
          ]
        }
      ]
    },
    {
      "cell_type": "markdown",
      "source": [
        "####**<font color=crimson>TASK 18.3 Commit to GitHub**</font>"
      ],
      "metadata": {
        "id": "1dJdfy4bwVO4"
      }
    },
    {
      "cell_type": "markdown",
      "source": [
        "#<font color=blue>**P19.**</font> ```count()``` – counting things made easy"
      ],
      "metadata": {
        "id": "28ygQlYJnZoA"
      }
    },
    {
      "cell_type": "markdown",
      "source": [
        "####**TASK P19.1** <font color= orange>**Complete Rosalind Problem #6  Counting DNA Nucleotides**</font>"
      ],
      "metadata": {
        "id": "CZ9tBWDmw4D-"
      }
    },
    {
      "cell_type": "code",
      "source": [
        "with open(\"rosalind_dna.txt\", \"r\") as data:\n",
        "  ran_seq = data.read()\n",
        "\n",
        "print(ran_seq.count(\"A\"), ran_seq.count(\"C\"), ran_seq.count(\"G\"), ran_seq.count(\"T\"))\n"
      ],
      "metadata": {
        "id": "GlwS14zGxBIC",
        "colab": {
          "base_uri": "https://localhost:8080/"
        },
        "outputId": "c8de5229-803b-423e-a5d1-64045470a5c6"
      },
      "execution_count": 102,
      "outputs": [
        {
          "output_type": "stream",
          "name": "stdout",
          "text": [
            "257 236 254 245\n"
          ]
        }
      ]
    },
    {
      "cell_type": "markdown",
      "source": [
        "####**TASK P19.2** Modify your code for the Rosalind #5 Dictionary problem so that it uses count( ) to count the words."
      ],
      "metadata": {
        "id": "rj-OWB6Jym5y"
      }
    },
    {
      "cell_type": "code",
      "source": [],
      "metadata": {
        "id": "9H_S6jLnzfxR"
      },
      "execution_count": null,
      "outputs": []
    },
    {
      "cell_type": "markdown",
      "source": [
        "####**<font color=crimson>TASK 19.3 Commit to GitHub**</font>\n"
      ],
      "metadata": {
        "id": "RzMon_wAzg7D"
      }
    },
    {
      "cell_type": "markdown",
      "source": [
        "#<font color=blue>**P20.**</font> Installing biopython"
      ],
      "metadata": {
        "id": "-IB0c2gG0Z1O"
      }
    },
    {
      "cell_type": "code",
      "source": [
        "!pip install biopython"
      ],
      "metadata": {
        "colab": {
          "base_uri": "https://localhost:8080/"
        },
        "id": "pinPQdEn0mJM",
        "outputId": "8b2e7bae-fe1b-44af-d75d-f2b0cb105077"
      },
      "execution_count": null,
      "outputs": [
        {
          "output_type": "stream",
          "name": "stdout",
          "text": [
            "Collecting biopython\n",
            "  Downloading biopython-1.85-cp312-cp312-manylinux_2_17_x86_64.manylinux2014_x86_64.whl.metadata (13 kB)\n",
            "Requirement already satisfied: numpy in /usr/local/lib/python3.12/dist-packages (from biopython) (2.0.2)\n",
            "Downloading biopython-1.85-cp312-cp312-manylinux_2_17_x86_64.manylinux2014_x86_64.whl (3.3 MB)\n",
            "\u001b[2K   \u001b[90m━━━━━━━━━━━━━━━━━━━━━━━━━━━━━━━━━━━━━━━━\u001b[0m \u001b[32m3.3/3.3 MB\u001b[0m \u001b[31m32.0 MB/s\u001b[0m eta \u001b[36m0:00:00\u001b[0m\n",
            "\u001b[?25hInstalling collected packages: biopython\n",
            "Successfully installed biopython-1.85\n"
          ]
        }
      ]
    },
    {
      "cell_type": "code",
      "metadata": {
        "colab": {
          "base_uri": "https://localhost:8080/"
        },
        "id": "5ccd6f0b",
        "outputId": "70af8419-2f7b-4212-e6c2-bb7e12b48a77"
      },
      "source": [
        "try:\n",
        "  from Bio.Seq import Seq\n",
        "  print(\"Biopython is installed correctly.\")\n",
        "except ImportError:\n",
        "  print(\"Biopython is not installed or there was an import error.\")"
      ],
      "execution_count": null,
      "outputs": [
        {
          "output_type": "stream",
          "name": "stdout",
          "text": [
            "Biopython is installed correctly.\n"
          ]
        }
      ]
    },
    {
      "cell_type": "markdown",
      "source": [
        "#<font color=blue>**P21.**</font> Seq( ) – a function to define sequence objects"
      ],
      "metadata": {
        "id": "IGX-ThdQ3RuA"
      }
    },
    {
      "cell_type": "code",
      "source": [
        "from Bio.Seq import Seq\n",
        "\n",
        "my_sequence = Seq(\"GATGGAACTTGACTACGTAAATT\")"
      ],
      "metadata": {
        "id": "ltZBr8mE4OhM"
      },
      "execution_count": null,
      "outputs": []
    },
    {
      "cell_type": "markdown",
      "source": [
        "####**TASK BP21.2** <font color=orange> **Complete Rosalind #7 Transcribing DNA into RNA**</font>"
      ],
      "metadata": {
        "id": "UXCuEFxg6Jxx"
      }
    },
    {
      "cell_type": "code",
      "source": [],
      "metadata": {
        "id": "UXt6gWLM6qde"
      },
      "execution_count": null,
      "outputs": []
    },
    {
      "cell_type": "markdown",
      "source": [
        "####**TASK BP21.2** <font color=orange> **Complete Rosalind #8  Translating RNA into Protein**</font>"
      ],
      "metadata": {
        "id": "9P4_MaXp6O3n"
      }
    },
    {
      "cell_type": "code",
      "source": [],
      "metadata": {
        "id": "5Rzzfzij6q2P"
      },
      "execution_count": null,
      "outputs": []
    },
    {
      "cell_type": "markdown",
      "source": [
        "####**<font color=crimson>TASK 21.3 Commit to GitHub**</font>\n"
      ],
      "metadata": {
        "id": "dvtR4N7L6sZ_"
      }
    },
    {
      "cell_type": "markdown",
      "source": [
        "#<font color=blue>**P22.**</font> SeqIO – a function to parse( ) sequence files"
      ],
      "metadata": {
        "id": "bDJqtRiX3fEG"
      }
    },
    {
      "cell_type": "markdown",
      "source": [
        "####**TASK BP 22.1** Read in the practice dataset from Rosalind #9 and print the id of each sequence in the file."
      ],
      "metadata": {
        "id": "VKyMhLjx7nIo"
      }
    },
    {
      "cell_type": "code",
      "source": [
        "from Bio.SeqIO import parse\n",
        "\n",
        "for seq_record in parse(\"practice_9.txt\", \"fasta\"):\n",
        "    print (seq_record.id)\n",
        "    print (seq_record.seq)\n",
        "    print (len(seq_record.seq))\n",
        "    print (seq_record)"
      ],
      "metadata": {
        "colab": {
          "base_uri": "https://localhost:8080/"
        },
        "id": "xUi3JEoh7yJ6",
        "outputId": "70d2fb30-4160-4104-ec06-90bcf2e77b47"
      },
      "execution_count": null,
      "outputs": [
        {
          "output_type": "stream",
          "name": "stdout",
          "text": [
            "Rosalind_6404\n",
            "Rosalind_5959\n",
            "Rosalind_0808\n"
          ]
        }
      ]
    },
    {
      "cell_type": "markdown",
      "source": [
        "#<font color=blue>**P23.**</font> SeqUtils.GC( ) – a function to compute GC content"
      ],
      "metadata": {
        "id": "SAjUYBpe3pwi"
      }
    }
  ]
}
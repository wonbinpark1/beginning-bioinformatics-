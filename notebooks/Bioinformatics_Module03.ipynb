{
  "nbformat": 4,
  "nbformat_minor": 0,
  "metadata": {
    "colab": {
      "provenance": [],
      "authorship_tag": "ABX9TyMA34DqMGT9EzESu/f1MhMr",
      "include_colab_link": true
    },
    "kernelspec": {
      "name": "python3",
      "display_name": "Python 3"
    },
    "language_info": {
      "name": "python"
    }
  },
  "cells": [
    {
      "cell_type": "markdown",
      "metadata": {
        "id": "view-in-github",
        "colab_type": "text"
      },
      "source": [
        "<a href=\"https://colab.research.google.com/github/wonbinpark1/beginning-bioinformatics-/blob/main/notebooks/Bioinformatics_Module03.ipynb\" target=\"_parent\"><img src=\"https://colab.research.google.com/assets/colab-badge.svg\" alt=\"Open In Colab\"/></a>"
      ]
    },
    {
      "cell_type": "code",
      "source": [],
      "metadata": {
        "id": "zDUVu0nnTnNp"
      },
      "execution_count": null,
      "outputs": []
    },
    {
      "cell_type": "code",
      "execution_count": null,
      "metadata": {
        "colab": {
          "base_uri": "https://localhost:8080/"
        },
        "id": "vECMyrLeS1sc",
        "outputId": "735b4051-eeee-47d2-fa62-5550a7fd2b04"
      },
      "outputs": [
        {
          "output_type": "execute_result",
          "data": {
            "text/plain": [
              "1852897"
            ]
          },
          "metadata": {},
          "execution_count": 3
        }
      ],
      "source": [
        "# Rosalind 1. Variables and Some Arithmetic\n",
        "a = 969\n",
        "b = 956\n",
        "a**2 + b**2"
      ]
    },
    {
      "cell_type": "code",
      "source": [
        "# Rosalind 2. Strings and lists\n",
        "s = \"ybStOqiJ23aFv8AqaeBy2nFWNy3yokCARSjjSYkdaGNpE7hpHHzZnKCnGIkXKGcCLoX9aZBYymMojtA9BrachypelmafGEYOjqaHMprbKCLY5zstyliferqlstxdbmrZOaxrQ2oXty7RwrDs4OYNqb91cOc2zvW3OrzVFPCS2lKXNm8veqbIS.\"\n",
        "a = 80\n",
        "b = 90\n",
        "c = 110\n",
        "d = 117\n",
        "s[a:b+1], s[c:d+1]"
      ],
      "metadata": {
        "colab": {
          "base_uri": "https://localhost:8080/"
        },
        "id": "em-4USTUS6vp",
        "outputId": "7d36b01b-1a77-4545-e0a4-1ef4bd39cb75"
      },
      "execution_count": null,
      "outputs": [
        {
          "output_type": "execute_result",
          "data": {
            "text/plain": [
              "('Brachypelma', 'stylifer')"
            ]
          },
          "metadata": {},
          "execution_count": 7
        }
      ]
    },
    {
      "cell_type": "code",
      "source": [
        "# Rosalind 3. Conditions and Loops\n",
        "a = 4870\n",
        "b = 8969\n",
        "odd_list = []\n",
        "while a <= b:\n",
        "  if a % 2 == 1:\n",
        "    odd_list.append(a)\n",
        "\n",
        "  a += 1\n",
        "\n",
        "sum(odd_list)"
      ],
      "metadata": {
        "colab": {
          "base_uri": "https://localhost:8080/"
        },
        "id": "m63jKdgsUp8B",
        "outputId": "51023be8-91a6-4a4d-dc26-3e33144bf6b1"
      },
      "execution_count": null,
      "outputs": [
        {
          "output_type": "execute_result",
          "data": {
            "text/plain": [
              "14186000"
            ]
          },
          "metadata": {},
          "execution_count": 21
        }
      ]
    },
    {
      "cell_type": "code",
      "source": [
        "# Rosalind 4. Reading and Writing\n",
        "\n",
        "lines =\n",
        "\"Bravely bold Sir Robin rode forth from Camelot\n",
        "Yes, brave Sir Robin turned about\n",
        "He was not afraid to die, O brave Sir Robin\n",
        "And gallantly he chickened out\n",
        "He was not at all afraid to be killed in nasty ways\n",
        "Bravely talking to his feet\n",
        "Brave, brave, brave, brave Sir Robin\n",
        "He beat a very brave retreat\"\n",
        "\n",
        "\n",
        "\n",
        "\n",
        "\n"
      ],
      "metadata": {
        "colab": {
          "base_uri": "https://localhost:8080/",
          "height": 111
        },
        "id": "0jbqc0JwYzIK",
        "outputId": "3021365c-a19d-4e2a-c673-823183d07f93"
      },
      "execution_count": null,
      "outputs": [
        {
          "output_type": "error",
          "ename": "SyntaxError",
          "evalue": "unterminated string literal (detected at line 4) (ipython-input-3371044746.py, line 4)",
          "traceback": [
            "\u001b[0;36m  File \u001b[0;32m\"/tmp/ipython-input-3371044746.py\"\u001b[0;36m, line \u001b[0;32m4\u001b[0m\n\u001b[0;31m    \"Bravely bold Sir Robin rode forth from Camelot\u001b[0m\n\u001b[0m    ^\u001b[0m\n\u001b[0;31mSyntaxError\u001b[0m\u001b[0;31m:\u001b[0m unterminated string literal (detected at line 4)\n"
          ]
        }
      ]
    }
  ]
}